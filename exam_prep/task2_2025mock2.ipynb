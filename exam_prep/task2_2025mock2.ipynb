{
 "cells": [
  {
   "cell_type": "code",
   "execution_count": null,
   "id": "a92f748d",
   "metadata": {},
   "outputs": [
    {
     "name": "stdout",
     "output_type": "stream",
     "text": [
      "Your email ID is ab@example.com\n"
     ]
    }
   ],
   "source": [
    "# Task 2.1\n",
    "firstname = input(\"Please enter your first name: \").lower()\n",
    "lastname = input(\"Please enter your last name: \").lower()\n",
    "email_id = firstname[0] + lastname[-3:] + \"@example.com\"\n",
    "print(f\"Your email ID is {email_id}\")"
   ]
  },
  {
   "cell_type": "code",
   "execution_count": null,
   "metadata": {},
   "outputs": [
    {
     "name": "stdout",
     "output_type": "stream",
     "text": [
      "Your email ID is ab@example.com\n",
      "Error, Invalid email address, Try again.\n",
      "Error, Invalid email address, Try again.\n"
     ]
    }
   ],
   "source": [
    "# Task 2.2\n",
    "firstname = input(\"Please enter your first name: \").lower()\n",
    "lastname = input(\"Please enter your last name: \").lower()\n",
    "email_id = firstname[0] + lastname[-3:] + \"@example.com\"\n",
    "print(f\"Your email ID is {email_id}\")\n",
    "\n",
    "# Reenter\n",
    "while True:\n",
    "    reenter = input(\"Reenter your email: \")\n",
    "    if reenter.find('@') == -1 or reenter.find('.') == -1 or reenter != email_id:\n",
    "        print(\"Error, Invalid email address, Try again.\")\n",
    "    else:\n",
    "        print(f\"{email_id} is valid\")\n",
    "        break"
   ]
  },
  {
   "cell_type": "code",
   "execution_count": null,
   "metadata": {},
   "outputs": [
    {
     "name": "stdout",
     "output_type": "stream",
     "text": [
      "Your email ID is ab@example.com\n",
      "ab@example.com is valid\n",
      "Your generated password is Tz1_0d]_\n"
     ]
    }
   ],
   "source": [
    "# Task 2.3\n",
    "firstname = input(\"Please enter your first name: \").lower()\n",
    "lastname = input(\"Please enter your last name: \").lower()\n",
    "email_id = firstname[0] + lastname[-3:] + \"@example.com\"\n",
    "print(f\"Your email ID is {email_id}\")\n",
    "\n",
    "# Reenter\n",
    "while True:\n",
    "    reenter = input(\"Reenter your email: \")\n",
    "    if reenter.find('@') == -1 or reenter.find('.') == -1 or reenter != email_id:\n",
    "        print(\"Error, Invalid email address, Try again.\")\n",
    "    else:\n",
    "        print(f\"{email_id} is valid\")\n",
    "        break\n",
    "\n",
    "# Random Password\n",
    "import random\n",
    "password = ''\n",
    "password += chr(random.randint(65,90))\n",
    "password += chr(random.randint(97,122))\n",
    "password += chr(random.randint(48,57))\n",
    "\n",
    "for i in range(5):\n",
    "    remainder = chr(random.randint(0,127))\n",
    "    password += remainder\n",
    "print(f\"Your generated password is {password}\")"
   ]
  }
 ],
 "metadata": {
  "kernelspec": {
   "display_name": ".venv",
   "language": "python",
   "name": "python3"
  },
  "language_info": {
   "codemirror_mode": {
    "name": "ipython",
    "version": 3
   },
   "file_extension": ".py",
   "mimetype": "text/x-python",
   "name": "python",
   "nbconvert_exporter": "python",
   "pygments_lexer": "ipython3",
   "version": "3.11.2"
  }
 },
 "nbformat": 4,
 "nbformat_minor": 5
}
