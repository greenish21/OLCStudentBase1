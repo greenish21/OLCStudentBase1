{
 "cells": [
  {
   "cell_type": "code",
   "execution_count": 1,
   "id": "add627ef",
   "metadata": {},
   "outputs": [],
   "source": [
    "num_of_animals = 5\n",
    "for x in range(num_of_animals):\n",
    "    p1_animal = input(\"Player 1, please enter an animal: \")\n",
    "    p1_animal = p1_animal.lower()\n",
    "    p2_guess = input(\"Player 2, please enter your guess: \")\n",
    "    p2_guess = p2_guess.lower()"
   ]
  },
  {
   "cell_type": "code",
   "execution_count": null,
   "metadata": {},
   "outputs": [
    {
     "name": "stdout",
     "output_type": "stream",
     "text": [
      "Added dog to list.\n",
      "Added cheetah to list.\n",
      "Added cat to list.\n",
      "Added tiger to list.\n",
      "Added lion to list.\n",
      "Ending player 1's Turn...\n",
      "['dog', 'cheetah', 'cat', 'tiger', 'lion']\n"
     ]
    }
   ],
   "source": [
    "# Task 1.1\n",
    "num_of_animals = 5\n",
    "p1_list = []\n",
    "while True:\n",
    "    p1_animal = input(\"Player 1, please enter an animal: ('q' to stop)\").lower()\n",
    "    if p1_animal == 'q':\n",
    "        print(\"Ending player 1's Turn...\")\n",
    "        break\n",
    "    else:\n",
    "        p1_list.append(p1_animal)\n",
    "        print(f\"Added {p1_animal} to list.\")\n",
    "        \n",
    "p2_guess = input(\"Player 2, please enter your guess: \")\n",
    "p2_guess = p2_guess.lower()\n",
    "\n"
   ]
  },
  {
   "cell_type": "code",
   "execution_count": null,
   "metadata": {},
   "outputs": [
    {
     "name": "stdout",
     "output_type": "stream",
     "text": [
      "Added dog to list.\n",
      "Added cat to list.\n",
      "Added cheetah to list.\n",
      "Added lion to list.\n",
      "Added tiger to list.\n",
      "Ending player 1's Turn...\n"
     ]
    },
    {
     "ename": "AttributeError",
     "evalue": "'list' object has no attribute 'find'",
     "output_type": "error",
     "traceback": [
      "\u001b[31m---------------------------------------------------------------------------\u001b[39m",
      "\u001b[31mAttributeError\u001b[39m                            Traceback (most recent call last)",
      "\u001b[36mCell\u001b[39m\u001b[36m \u001b[39m\u001b[32mIn[3]\u001b[39m\u001b[32m, line 18\u001b[39m\n\u001b[32m     15\u001b[39m p2_guess = p2_guess.lower()\n\u001b[32m     17\u001b[39m \u001b[38;5;66;03m#Validation\u001b[39;00m\n\u001b[32m---> \u001b[39m\u001b[32m18\u001b[39m finder = \u001b[43mp1_list\u001b[49m\u001b[43m.\u001b[49m\u001b[43mfind\u001b[49m(p2_guess)\n\u001b[32m     19\u001b[39m \u001b[38;5;66;03m#if finder > 0:\u001b[39;00m\n\u001b[32m     20\u001b[39m \u001b[38;5;66;03m#    score += 1\u001b[39;00m\n",
      "\u001b[31mAttributeError\u001b[39m: 'list' object has no attribute 'find'"
     ]
    }
   ],
   "source": [
    "# Task 1.2\n",
    "num_of_animals = 5\n",
    "p1_list = []\n",
    "score = 0\n",
    "while True:\n",
    "    p1_animal = input(\"Player 1, please enter an animal: ('q' to stop)\").lower()\n",
    "    if p1_animal == 'q':\n",
    "        print(\"Ending player 1's Turn...\")\n",
    "        break\n",
    "    else:\n",
    "        p1_list.append(p1_animal)\n",
    "        print(f\"Added {p1_animal} to list.\")\n",
    "        \n",
    "p2_guess = input(\"Player 2, please enter your guess: \")\n",
    "p2_guess = p2_guess.lower()\n",
    "\n",
    "#Validation\n",
    "while True:\n",
    "    if p2_guess in p1_list:\n",
    "        score += 1\n",
    "        p1_list.remove(p2_guess)\n",
    "    else:\n",
    "        print(\"Your guess is wrong, Try again.\")\n"
   ]
  },
  {
   "cell_type": "code",
   "execution_count": null,
   "metadata": {},
   "outputs": [],
   "source": [
    "# Task 1.3\n",
    "num_of_animals = 5\n",
    "p1_list = []\n",
    "score = 0\n",
    "while True:\n",
    "    p1_animal = input(\"Player 1, please enter an animal: ('q' to stop)\").lower()\n",
    "    if p1_animal == 'q':\n",
    "        print(\"Ending player 1's Turn...\")\n",
    "        break\n",
    "    else:\n",
    "        p1_list.append(p1_animal)\n",
    "        print(f\"Added {p1_animal} to list.\")\n",
    "        \n",
    "p2_guess = input(\"Player 2, please enter your guess: \")\n",
    "p2_guess = p2_guess.lower()\n",
    "\n",
    "#Validation\n",
    "while True:\n",
    "    if p2_guess in p1_list:\n",
    "        score += 1\n",
    "        p1_list.remove(p2_guess)\n",
    "    elif p1_list == []:\n",
    "        print(\"Player 1 wins\")\n",
    "    else:\n",
    "        print(\"Your guess is wrong, game over.\")\n",
    "        print(score)\n",
    "        print(p1_list)\n",
    "        break\n",
    "    \n",
    "\n"
   ]
  }
 ],
 "metadata": {
  "kernelspec": {
   "display_name": ".venv",
   "language": "python",
   "name": "python3"
  },
  "language_info": {
   "codemirror_mode": {
    "name": "ipython",
    "version": 3
   },
   "file_extension": ".py",
   "mimetype": "text/x-python",
   "name": "python",
   "nbconvert_exporter": "python",
   "pygments_lexer": "ipython3",
   "version": "3.11.2"
  }
 },
 "nbformat": 4,
 "nbformat_minor": 5
}
