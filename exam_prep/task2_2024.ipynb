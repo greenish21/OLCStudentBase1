{
 "cells": [
  {
   "cell_type": "code",
   "execution_count": null,
   "metadata": {},
   "outputs": [
    {
     "name": "stdout",
     "output_type": "stream",
     "text": [
      "['StudentNo1', 'JaneJones', 'ABC123', 'a']\n"
     ]
    }
   ],
   "source": [
    "#Task 2.1\n",
    "list_username = [\"StudentNo1\",\"JaneJones\", \"ABC123\"]\n",
    "\n",
    "while True:\n",
    "    username = input(\"Please enter a username: \")\n",
    "    if username not in list_username:\n",
    "        list_username.append(username)\n",
    "        break\n",
    "    print(f\"{username} already exists. Enter a new username.\")"
   ]
  },
  {
   "cell_type": "code",
   "execution_count": null,
   "metadata": {},
   "outputs": [
    {
     "name": "stdout",
     "output_type": "stream",
     "text": [
      "Password is too short, try again.\n",
      "Password is too short, try again.\n",
      "Password is too short, try again.\n",
      "Password is too short, try again.\n"
     ]
    }
   ],
   "source": [
    "#Task 2.2\n",
    "list_username = [\"StudentNo1\",\"JaneJones\", \"ABC123\"]\n",
    "while True:\n",
    "    username = input(\"Please enter a username: \")\n",
    "    if username not in list_username:\n",
    "        list_username.append(username)\n",
    "        break\n",
    "    print(f\"{username} already exists. Enter a new username.\")\n",
    "schar_list = ['@','!','/','?']\n",
    "while True:\n",
    "    password = input(\"Please enter a password: \")\n",
    "    is_num = False\n",
    "    is_len = False\n",
    "    is_special = False\n",
    "    \n",
    "    for char in password:\n",
    "        if char.isdigit():\n",
    "            is_num = True\n",
    "\n",
    "        # put check for special characters in this loop\n",
    "    if len(password) >= 8:\n",
    "        is_len = True\n",
    "\n",
    "    if '@' in password or \"!\" in password or '/' in password or '?' in password: \n",
    "        is_special = True\n",
    "\n",
    "    if is_num == True and is_len == True and is_special == True:\n",
    "        break\n",
    "    else:\n",
    "        print(\"Password is too short, try again.\")\n"
   ]
  }
 ],
 "metadata": {
  "kernelspec": {
   "display_name": ".venv",
   "language": "python",
   "name": "python3"
  },
  "language_info": {
   "codemirror_mode": {
    "name": "ipython",
    "version": 3
   },
   "file_extension": ".py",
   "mimetype": "text/x-python",
   "name": "python",
   "nbconvert_exporter": "python",
   "pygments_lexer": "ipython3",
   "version": "3.11.2"
  }
 },
 "nbformat": 4,
 "nbformat_minor": 5
}
