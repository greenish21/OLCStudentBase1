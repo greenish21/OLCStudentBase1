{
 "cells": [
  {
   "cell_type": "code",
   "execution_count": null,
   "id": "38e18fb6",
   "metadata": {},
   "outputs": [],
   "source": [
    "# The original buggy code\n",
    "\n",
    "import random\n",
    "questions = 10\n",
    "answer_list = []\n",
    "correct = 0\n",
    "incorrect = 0\n",
    "total_mark = 0\n",
    "for x in range(questions - 1):\n",
    "    num1 = random.randint(1, 50)\n",
    "    num2 = random.randint(1, 50)\n",
    "    print(\"What is\", num1, \"+\", num2, \"?\")\n",
    "    user_answer = input()\n",
    "    if user_answer == answer:\n",
    "        if num1 > 25 or num2 > 25:\n",
    "            total_mark = total_mark + 2\n",
    "            answer_list = answer_list + [“Correct”]\n",
    "        else:\n",
    "            total_mark = total_mark + 1\n",
    "    else:\n",
    "        answer_list = answer_list + [\"Incorrect\"]\n",
    "list_length = len(answer_list – 1)\n",
    "for i in range(list_length):\n",
    "    if answer_list[x] == \"Correct\":\n",
    "        correct = correct - 1\n",
    "if message  == 1:\n",
    "    message = \"answer.\"\n",
    "else:\n",
    "    message = \"answers.\"\n",
    "print(\"Your total mark is\", total_mark, \"and you had\", correct, message)\n"
   ]
  },
  {
   "cell_type": "code",
   "execution_count": 1,
   "metadata": {},
   "outputs": [
    {
     "name": "stdout",
     "output_type": "stream",
     "text": [
      "What is 2 + 8 ?\n",
      "What is 9 + 4 ?\n",
      "What is 3 + 8 ?\n",
      "What is 4 + 8 ?\n",
      "What is 7 + 10 ?\n",
      "What is 5 + 10 ?\n",
      "What is 4 + 4 ?\n",
      "What is 3 + 3 ?\n",
      "What is 10 + 1 ?\n"
     ]
    },
    {
     "ename": "TypeError",
     "evalue": "unsupported operand type(s) for -: 'list' and 'int'",
     "output_type": "error",
     "traceback": [
      "\u001b[31m---------------------------------------------------------------------------\u001b[39m",
      "\u001b[31mTypeError\u001b[39m                                 Traceback (most recent call last)",
      "\u001b[36mCell\u001b[39m\u001b[36m \u001b[39m\u001b[32mIn[1]\u001b[39m\u001b[32m, line 23\u001b[39m\n\u001b[32m     21\u001b[39m     \u001b[38;5;28;01melse\u001b[39;00m:\n\u001b[32m     22\u001b[39m         answer_list = answer_list + [\u001b[33m\"\u001b[39m\u001b[33mIncorrect\u001b[39m\u001b[33m\"\u001b[39m]\n\u001b[32m---> \u001b[39m\u001b[32m23\u001b[39m list_length = \u001b[38;5;28mlen\u001b[39m(\u001b[43manswer_list\u001b[49m\u001b[43m \u001b[49m\u001b[43m-\u001b[49m\u001b[43m \u001b[49m\u001b[32;43m1\u001b[39;49m) \u001b[38;5;66;03m# 2. Fixed wrong '-' sign\u001b[39;00m\n\u001b[32m     24\u001b[39m \u001b[38;5;28;01mfor\u001b[39;00m i \u001b[38;5;129;01min\u001b[39;00m \u001b[38;5;28mrange\u001b[39m(list_length):\n\u001b[32m     25\u001b[39m     \u001b[38;5;28;01mif\u001b[39;00m answer_list[x] == \u001b[33m\"\u001b[39m\u001b[33mCorrect\u001b[39m\u001b[33m\"\u001b[39m:\n",
      "\u001b[31mTypeError\u001b[39m: unsupported operand type(s) for -: 'list' and 'int'"
     ]
    }
   ],
   "source": [
    "# Corrected Code\n",
    "\n",
    "import random\n",
    "questions = 10\n",
    "answer_list = []\n",
    "correct = 0\n",
    "incorrect = 0\n",
    "total_mark = 0\n",
    "for x in range(questions - 1):\n",
    "    num1 = random.randint(1, 10) # Temp change to 1-10\n",
    "    num2 = random.randint(1, 10)\n",
    "    answer = num1 + num2\n",
    "    print(\"What is\", num1, \"+\", num2, \"?\")\n",
    "    user_answer = input()\n",
    "    if user_answer == answer:\n",
    "        if num1 > 25 or num2 > 25:\n",
    "            total_mark = total_mark + 2\n",
    "            answer_list = answer_list + ['Correct'] # 1. Fixed wrong quotation mark\n",
    "        else:\n",
    "            total_mark = total_mark + 1\n",
    "    else:\n",
    "        answer_list = answer_list + [\"Incorrect\"]\n",
    "list_length = len(answer_list - 1) # 2. Fixed wrong '-' sign\n",
    "for i in range(list_length):\n",
    "    if answer_list[x] == \"Correct\":\n",
    "        correct = correct - 1\n",
    "if message  == 1:\n",
    "    message = \"answer.\"\n",
    "else:\n",
    "    message = \"answers.\"\n",
    "print(\"Your total mark is\", total_mark, \"and you had\", correct, message)\n"
   ]
  }
 ],
 "metadata": {
  "kernelspec": {
   "display_name": ".venv",
   "language": "python",
   "name": "python3"
  },
  "language_info": {
   "codemirror_mode": {
    "name": "ipython",
    "version": 3
   },
   "file_extension": ".py",
   "mimetype": "text/x-python",
   "name": "python",
   "nbconvert_exporter": "python",
   "pygments_lexer": "ipython3",
   "version": "3.11.2"
  }
 },
 "nbformat": 4,
 "nbformat_minor": 5
}
