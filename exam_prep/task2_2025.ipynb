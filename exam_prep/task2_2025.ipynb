{
 "cells": [
  {
   "cell_type": "code",
   "execution_count": null,
   "id": "d9b98da8",
   "metadata": {},
   "outputs": [],
   "source": [
    "# Task 3.1\n",
    "capital_cities = {\n",
    "    'singapore': 'Singapore',\n",
    "    'japan': 'Tokyo',\n",
    "    'australia': 'Canberra',\n",
    "    'england': 'London',\n",
    "    'france': 'Paris',\n",
    "    'germany': 'Berlin'\n",
    "}\n",
    "\n",
    "country = input(\"Please enter the name of a country: \").lower()\n",
    "\n",
    "capital = capital_cities.get(country)\n",
    "if capital:\n",
    "    print(f\"The capital city of {country.title()} is {capital}.\")\n",
    "else:\n",
    "    print(\"Country not found.\")"
   ]
  },
  {
   "cell_type": "code",
   "execution_count": null,
   "metadata": {},
   "outputs": [],
   "source": [
    "# Task 3.2\n",
    "capital_cities = {\n",
    "    'singapore': 'Singapore',\n",
    "    'japan': 'Tokyo',\n",
    "    'australia': 'Canberra',\n",
    "    'england': 'London',\n",
    "    'france': 'Paris',\n",
    "    'germany': 'Berlin'\n",
    "}\n",
    "\n",
    "country = input(\"Please enter the name of a country: \").lower()\n",
    "\n",
    "capital = capital_cities.get(country)\n",
    "if capital:\n",
    "    print(f\"The capital city of {country.title()} is {capital}.\")\n",
    "else:\n",
    "    print(\"Country not found.\")\n",
    "\n",
    "# 3.2 Start\n",
    "remove = input(\"Would you like to remove any of the entries? (Y/N)\").upper()\n",
    "if remove == 'Y':\n",
    "    country_select = input(\"What country would you like to remove?\").lower()\n",
    "    del capital_cities[country_select]\n",
    "    print(f\"{country_select} has been removed.\")\n",
    "    "
   ]
  }
 ],
 "metadata": {
  "kernelspec": {
   "display_name": ".venv",
   "language": "python",
   "name": "python3"
  },
  "language_info": {
   "codemirror_mode": {
    "name": "ipython",
    "version": 3
   },
   "file_extension": ".py",
   "mimetype": "text/x-python",
   "name": "python",
   "nbconvert_exporter": "python",
   "pygments_lexer": "ipython3",
   "version": "3.11.2"
  }
 },
 "nbformat": 4,
 "nbformat_minor": 5
}
